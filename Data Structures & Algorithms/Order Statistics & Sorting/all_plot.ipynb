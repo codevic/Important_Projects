{
 "cells": [
  {
   "cell_type": "code",
   "execution_count": 8,
   "metadata": {},
   "outputs": [],
   "source": [
    "import os\n",
    "import sys\n",
    "import pandas as pd\n",
    "import numpy as np\n",
    "import matplotlib.pyplot as plt"
   ]
  },
  {
   "cell_type": "code",
   "execution_count": 13,
   "metadata": {},
   "outputs": [],
   "source": [
    "# filenamePath = './'+sys.argv[1]\n",
    "filenamePath = './Sorts_N_runs_for_n_inputSizes_runtimes.csv'\n",
    "# outputGraphName = sys.argv[2]+'.png'\n",
    "# outputGraphName = filenamePath.split('.')[0]+'.png'\n",
    "\n",
    "runTimes = pd.read_csv(filenamePath)"
   ]
  },
  {
   "cell_type": "code",
   "execution_count": 14,
   "metadata": {},
   "outputs": [
    {
     "data": {
      "text/html": [
       "<div>\n",
       "<style scoped>\n",
       "    .dataframe tbody tr th:only-of-type {\n",
       "        vertical-align: middle;\n",
       "    }\n",
       "\n",
       "    .dataframe tbody tr th {\n",
       "        vertical-align: top;\n",
       "    }\n",
       "\n",
       "    .dataframe thead th {\n",
       "        text-align: right;\n",
       "    }\n",
       "</style>\n",
       "<table border=\"1\" class=\"dataframe\">\n",
       "  <thead>\n",
       "    <tr style=\"text-align: right;\">\n",
       "      <th></th>\n",
       "      <th>iterations</th>\n",
       "      <th>heap_sort</th>\n",
       "      <th>quick_sort-classical</th>\n",
       "      <th>quick_sort-randomized</th>\n",
       "      <th>quick_sort-median</th>\n",
       "      <th>quick_sort-hybrid</th>\n",
       "      <th>c++ inbuilt sort</th>\n",
       "    </tr>\n",
       "  </thead>\n",
       "  <tbody>\n",
       "    <tr>\n",
       "      <th>0</th>\n",
       "      <td>10</td>\n",
       "      <td>0.001888</td>\n",
       "      <td>0.000755</td>\n",
       "      <td>0.002643</td>\n",
       "      <td>0.004908</td>\n",
       "      <td>0.001510</td>\n",
       "      <td>0.001133</td>\n",
       "    </tr>\n",
       "    <tr>\n",
       "      <th>1</th>\n",
       "      <td>100</td>\n",
       "      <td>0.019257</td>\n",
       "      <td>0.015858</td>\n",
       "      <td>0.010950</td>\n",
       "      <td>0.027563</td>\n",
       "      <td>0.089487</td>\n",
       "      <td>0.007930</td>\n",
       "    </tr>\n",
       "    <tr>\n",
       "      <th>2</th>\n",
       "      <td>1000</td>\n",
       "      <td>0.259398</td>\n",
       "      <td>1.379680</td>\n",
       "      <td>0.117805</td>\n",
       "      <td>1.504280</td>\n",
       "      <td>6.388300</td>\n",
       "      <td>NaN</td>\n",
       "    </tr>\n",
       "  </tbody>\n",
       "</table>\n",
       "</div>"
      ],
      "text/plain": [
       "   iterations  heap_sort  quick_sort-classical  quick_sort-randomized  \\\n",
       "0          10   0.001888              0.000755               0.002643   \n",
       "1         100   0.019257              0.015858               0.010950   \n",
       "2        1000   0.259398              1.379680               0.117805   \n",
       "\n",
       "   quick_sort-median  quick_sort-hybrid  c++ inbuilt sort  \n",
       "0           0.004908           0.001510          0.001133  \n",
       "1           0.027563           0.089487          0.007930  \n",
       "2           1.504280           6.388300               NaN  "
      ]
     },
     "execution_count": 14,
     "metadata": {},
     "output_type": "execute_result"
    }
   ],
   "source": [
    "runTimes"
   ]
  },
  {
   "cell_type": "code",
   "execution_count": 16,
   "metadata": {},
   "outputs": [
    {
     "name": "stderr",
     "output_type": "stream",
     "text": [
      "c:\\users\\siddh\\appdata\\local\\programs\\python\\python35\\lib\\site-packages\\pandas\\plotting\\_core.py:1716: UserWarning: Pandas doesn't allow columns to be created via a new attribute name - see https://pandas.pydata.org/pandas-docs/stable/indexing.html#attribute-access\n",
      "  series.name = label\n"
     ]
    },
    {
     "data": {
      "image/png": "[encoded data removed]",
      "text/plain": [
       "<Figure size 432x288 with 1 Axes>"
      ]
     },
     "metadata": {},
     "output_type": "display_data"
    }
   ],
   "source": [
    "# runTimes = runTimes.sort_values(by=['Input_Size'])\n",
    "# runTimes = runTimes.drop_duplicates(subset=['Input_Size'], keep='first')\n",
    "\n",
    "fig = runTimes.plot(x='iterations', y=['heap_sort','quick_sort-classical','quick_sort-randomized','quick_sort-median','quick_sort-hybrid','c++ inbuilt sort'])\n",
    "# fig.legend(outputGraphName)\n",
    "\n",
    "# fig = runTimes.plot()\n",
    "\n",
    "\n",
    "fig = fig.get_figure()\n",
    "\n",
    "\n",
    "fig.savefig('Sorts_N_runs_for_n_inputSizes_runtimes')"
   ]
  },
  {
   "cell_type": "code",
   "execution_count": null,
   "metadata": {},
   "outputs": [],
   "source": []
  }
 ],
 "metadata": {
  "kernelspec": {
   "display_name": "Python 3",
   "language": "python",
   "name": "python3"
  },
  "language_info": {
   "codemirror_mode": {
    "name": "ipython",
    "version": 3
   },
   "file_extension": ".py",
   "mimetype": "text/x-python",
   "name": "python",
   "nbconvert_exporter": "python",
   "pygments_lexer": "ipython3",
   "version": "3.5.3"
  }
 },
 "nbformat": 4,
 "nbformat_minor": 2
}
